{
 "cells": [
  {
   "cell_type": "markdown",
   "id": "b43006ff",
   "metadata": {},
   "source": [
    "<center> <h2> EM algorithm"
   ]
  },
  {
   "cell_type": "markdown",
   "id": "a84e2d85",
   "metadata": {},
   "source": [
    "Suppose we have an <i>unobservable</i> random variable $X$ such that $\\mathbb{P}(X=1) = 1 - \\mathbb{P}(X=0) = \\theta$. Furthermore we have an <i>observable</i> random variable $Y$ such that the conditionals are \n",
    "\\begin{align*}\n",
    "Y \\vert X=0 & \\sim g(y ;\\mu_0, \\sigma_0) \\\\\n",
    "Y \\vert X=1 & \\sim g(y ;\\mu_1, \\sigma_1),\n",
    "\\end{align*}\n",
    "where $g_i$ is a Gaussian distribution and the parameters $\\mu_i, \\sigma_i, \\,\\,i=0,1$ are known. The probability $\\theta$ is unknown however.\n",
    "\n",
    "Our goal is to estimate the probabilty by observing samples from $Y\\vert X=x$ using Baysian statistics (EM-algorithm).\n",
    "Let $\\mathbf{y} = (y_0, y_1,...,y_n)$ be $n$ samples from $Y\\vert X=x$ and denote the corresponding unobserable samples as $\\mathbf{x} = (x_0, x_1,...,x_n)$\n",
    "\n",
    "We start by writing the log-likelihood up to normalizing constants for the function $\\theta \\mapsto f_\\theta(\\mathbf{x},\\mathbf{y})$, where $f_theta$ is the joint distribution dependent on $\\theta$.\n",
    "The joint distribution is\n",
    "$$f(\\mathbf{x},\\mathbf{y}) = \\prod_{i=1}^n (\\theta g(y ;\\mu_1, \\sigma_1))^{\\mathbb{1}(x=1)} ((1-\\theta) g(y ;\\mu_0, \\sigma_0))^{\\mathbb{1}(x=0)},$$\n",
    "where $\\mathbb{1}$ is the indicator function. \n",
    "Take the logarithm of this and neglecting everything not dependent on $\\theta$ to get\n",
    "$$\\log{f(\\mathbf{x},\\mathbf{y}) } \\stackrel{c}{=} \\sum_{i=1}^n \\left[ \\mathbb{1}(x=1)\\log(\\theta) + \\mathbb{1}(x=0)\\log{(1-\\theta)} \\right].$$\n",
    "Here we can see that $$f(\\mathbf{x}\\,\\vert\\, \\mathbf{y}) \\propto f_\\theta(\\mathbf{x},\\mathbf{y}),$$\n",
    "since all terms are dependent on $x$.\n",
    "\n",
    "<h4>The expectation step:</h4>\n",
    "\\begin{align*}\n",
    "\\mathcal{Q}_{\\theta'}(\\theta ) &= \\mathbb{E}_{\\theta'} [\\log( f_\\theta(\\mathbf{x},\\mathbf{y}))\\,\\vert\\, Y = \\mathbf{y} ]\\\\\n",
    "& = \\mathbb{E}_{\\theta'}\\left[\\sum_{i=1}^n \\left( \\, \\mathbb{1} (x_i = 1)\\log(\\theta) +  \\mathbb{1} (x_i = 0)\\log(1-\\theta) \\right) \\,\\vert\\, Y = \\mathbf{y}\\right] \\\\\n",
    "& = \\sum_{i=1}^n \\left( \\mathbb{E}_{\\theta'}[\\mathbb{1} (x_i = 1)\\,\\vert\\, Y_i= y_i] \\log(\\theta) + \\mathbb{E}_{\\theta'}[\\mathbb{1} (x_i = 0)\\,\\vert\\, Y_i= y_i]\\log(1-\\theta) \\right)\\\\\n",
    "& = \\sum_{i=1}^n \\left(\\theta' \\,g(y_i\\vert;\\mu_1,\\sigma_1)\\log(\\theta) +(1- \\theta') g(y_i\\vert;\\mu_0,\\sigma_0)\\log(1-\\theta) \\right) \n",
    "\\end{align*}\n",
    "<h4>The maximization step:</h4>\n",
    "\n",
    "Maximizing this expressing by taking the derivative w.r.t $\\theta$ and setting it to zero gives us the following,\n",
    "\n",
    "$$\\frac{d}{d\\theta}\\mathcal{Q}_{\\theta'}(\\theta)  = \\sum_{i=1}^n \\left( \\frac{\\theta'}{\\theta} g(y_i\\vert;\\mu_1,\\sigma_1) -\\frac{1-\\theta'}{1-\\theta} g(y_i\\vert;\\mu_0,\\sigma_0) \\right) = 0 $$\n",
    "Solving this for $\\theta$ gives us the iterative formula, \n",
    "$$\\theta_{l+1} = \\frac{1}{n}\\sum_{i=1}^n \\frac{\\theta_l g(y_i\\vert;\\mu_0,\\sigma_0)}{(1-\\theta_l)g(y_i\\vert;\\mu_1,\\sigma_1) + \\theta_l g(y_i\\vert;\\mu_0,\\sigma_0)},$$\n",
    "which is the EM-updating formula we need. Let us try this out."
   ]
  },
  {
   "cell_type": "code",
   "execution_count": 211,
   "id": "b09a2748",
   "metadata": {},
   "outputs": [],
   "source": [
    "# Generate toy data\n",
    "import numpy as np\n",
    "import matplotlib.pyplot as plt\n",
    "theta=0.68492 # Some value\n",
    "\n",
    "mu_0 = 0.1; sigma_0 = 1\n",
    "mu_1 = 1; sigma_1 = 2.8\n",
    "\n",
    "n = 2000\n",
    "y = np.zeros(n)\n",
    "for i in range(n):\n",
    "    r = np.random.binomial(1,1-theta)\n",
    "    if r == 0:\n",
    "        y[i] = np.random.normal(mu_0,sigma_0)\n",
    "    else: \n",
    "        y[i] = np.random.normal(mu_1,sigma_1)"
   ]
  },
  {
   "cell_type": "markdown",
   "id": "d15f914c",
   "metadata": {},
   "source": [
    "We must have access to the normal probability density,\n",
    "$$g(y,\\mu,\\sigma)= \\frac{1}{\\sqrt{2\\pi\\sigma^2}}\\exp\\left({-\\frac{1}{2}\\left(\\frac{(y-\\mu)}{\\sigma}\\right)^2}\\right)$$"
   ]
  },
  {
   "cell_type": "code",
   "execution_count": 212,
   "id": "2a2ebdb5",
   "metadata": {},
   "outputs": [],
   "source": [
    "def g(y,mu,sigma):\n",
    "    return 1/np.sqrt(2*np.pi*sigma**2)*np.exp(-( (y-mu)/sigma )**2/2)"
   ]
  },
  {
   "cell_type": "code",
   "execution_count": 219,
   "id": "f58ca25d",
   "metadata": {
    "scrolled": true
   },
   "outputs": [],
   "source": [
    "init_guess = 0.01\n",
    "num_iterations=100\n",
    "\n",
    "# Run signal through pdf\n",
    "y_0 = g(y,mu_0,sigma_0)\n",
    "y_1 = g(y,mu_1,sigma_1)\n",
    "\n",
    "theta_array = np.zeros(num_iterations+1)\n",
    "theta_array[0] = init_guess\n",
    "\n",
    "# Start the iteration process\n",
    "for i in range(num_iterations):\n",
    "    theta_array[i+1] = np.mean( theta_array[i]*y_0 / ( (1-theta_array[i])*y_1 + theta_array[i]*y_0 ) )"
   ]
  },
  {
   "cell_type": "code",
   "execution_count": 220,
   "id": "6de4f80d",
   "metadata": {},
   "outputs": [
    {
     "data": {
      "image/png": "[encoded data removed]",
      "text/plain": [
       "<Figure size 432x288 with 1 Axes>"
      ]
     },
     "metadata": {
      "needs_background": "light"
     },
     "output_type": "display_data"
    },
    {
     "name": "stdout",
     "output_type": "stream",
     "text": [
      "Error: 0.0066\n"
     ]
    }
   ],
   "source": [
    "fig, ax = plt.subplots()\n",
    "ax.plot(theta_array)\n",
    "ax.annotate('$\\hat{ \\Theta } = $ ' + str(theta_array[-1])[:5], (num_iterations*0.8, theta_array[-1]*0.9))\n",
    "ax.plot(num_iterations, theta_array[-1],'r*')\n",
    "plt.xlabel('Number of iterations')\n",
    "plt.ylabel('$\\Theta$ estimate')\n",
    "plt.grid()\n",
    "plt.show()\n",
    "print('Error: ' + str(np.abs(theta-theta_array[-1]))[:6])"
   ]
  },
  {
   "cell_type": "markdown",
   "id": "86b45097",
   "metadata": {},
   "source": [
    "Seems to work just fine."
   ]
  }
 ],
 "metadata": {
  "kernelspec": {
   "display_name": "Python 3 (ipykernel)",
   "language": "python",
   "name": "python3"
  },
  "language_info": {
   "codemirror_mode": {
    "name": "ipython",
    "version": 3
   },
   "file_extension": ".py",
   "mimetype": "text/x-python",
   "name": "python",
   "nbconvert_exporter": "python",
   "pygments_lexer": "ipython3",
   "version": "3.9.6"
  }
 },
 "nbformat": 4,
 "nbformat_minor": 5
}
